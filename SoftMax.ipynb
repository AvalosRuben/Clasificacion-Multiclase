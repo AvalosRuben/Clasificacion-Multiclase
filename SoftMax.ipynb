{
 "cells": [
  {
   "cell_type": "code",
   "execution_count": 87,
   "id": "2a089635",
   "metadata": {
    "vscode": {
     "languageId": "plaintext"
    }
   },
   "outputs": [
    {
     "name": "stdout",
     "output_type": "stream",
     "text": [
      "{'data': array([[5.1, 3.5, 1.4, 0.2],\n",
      "       [4.9, 3. , 1.4, 0.2],\n",
      "       [4.7, 3.2, 1.3, 0.2],\n",
      "       [4.6, 3.1, 1.5, 0.2],\n",
      "       [5. , 3.6, 1.4, 0.2],\n",
      "       [5.4, 3.9, 1.7, 0.4],\n",
      "       [4.6, 3.4, 1.4, 0.3],\n",
      "       [5. , 3.4, 1.5, 0.2],\n",
      "       [4.4, 2.9, 1.4, 0.2],\n",
      "       [4.9, 3.1, 1.5, 0.1],\n",
      "       [5.4, 3.7, 1.5, 0.2],\n",
      "       [4.8, 3.4, 1.6, 0.2],\n",
      "       [4.8, 3. , 1.4, 0.1],\n",
      "       [4.3, 3. , 1.1, 0.1],\n",
      "       [5.8, 4. , 1.2, 0.2],\n",
      "       [5.7, 4.4, 1.5, 0.4],\n",
      "       [5.4, 3.9, 1.3, 0.4],\n",
      "       [5.1, 3.5, 1.4, 0.3],\n",
      "       [5.7, 3.8, 1.7, 0.3],\n",
      "       [5.1, 3.8, 1.5, 0.3],\n",
      "       [5.4, 3.4, 1.7, 0.2],\n",
      "       [5.1, 3.7, 1.5, 0.4],\n",
      "       [4.6, 3.6, 1. , 0.2],\n",
      "       [5.1, 3.3, 1.7, 0.5],\n",
      "       [4.8, 3.4, 1.9, 0.2],\n",
      "       [5. , 3. , 1.6, 0.2],\n",
      "       [5. , 3.4, 1.6, 0.4],\n",
      "       [5.2, 3.5, 1.5, 0.2],\n",
      "       [5.2, 3.4, 1.4, 0.2],\n",
      "       [4.7, 3.2, 1.6, 0.2],\n",
      "       [4.8, 3.1, 1.6, 0.2],\n",
      "       [5.4, 3.4, 1.5, 0.4],\n",
      "       [5.2, 4.1, 1.5, 0.1],\n",
      "       [5.5, 4.2, 1.4, 0.2],\n",
      "       [4.9, 3.1, 1.5, 0.2],\n",
      "       [5. , 3.2, 1.2, 0.2],\n",
      "       [5.5, 3.5, 1.3, 0.2],\n",
      "       [4.9, 3.6, 1.4, 0.1],\n",
      "       [4.4, 3. , 1.3, 0.2],\n",
      "       [5.1, 3.4, 1.5, 0.2],\n",
      "       [5. , 3.5, 1.3, 0.3],\n",
      "       [4.5, 2.3, 1.3, 0.3],\n",
      "       [4.4, 3.2, 1.3, 0.2],\n",
      "       [5. , 3.5, 1.6, 0.6],\n",
      "       [5.1, 3.8, 1.9, 0.4],\n",
      "       [4.8, 3. , 1.4, 0.3],\n",
      "       [5.1, 3.8, 1.6, 0.2],\n",
      "       [4.6, 3.2, 1.4, 0.2],\n",
      "       [5.3, 3.7, 1.5, 0.2],\n",
      "       [5. , 3.3, 1.4, 0.2],\n",
      "       [7. , 3.2, 4.7, 1.4],\n",
      "       [6.4, 3.2, 4.5, 1.5],\n",
      "       [6.9, 3.1, 4.9, 1.5],\n",
      "       [5.5, 2.3, 4. , 1.3],\n",
      "       [6.5, 2.8, 4.6, 1.5],\n",
      "       [5.7, 2.8, 4.5, 1.3],\n",
      "       [6.3, 3.3, 4.7, 1.6],\n",
      "       [4.9, 2.4, 3.3, 1. ],\n",
      "       [6.6, 2.9, 4.6, 1.3],\n",
      "       [5.2, 2.7, 3.9, 1.4],\n",
      "       [5. , 2. , 3.5, 1. ],\n",
      "       [5.9, 3. , 4.2, 1.5],\n",
      "       [6. , 2.2, 4. , 1. ],\n",
      "       [6.1, 2.9, 4.7, 1.4],\n",
      "       [5.6, 2.9, 3.6, 1.3],\n",
      "       [6.7, 3.1, 4.4, 1.4],\n",
      "       [5.6, 3. , 4.5, 1.5],\n",
      "       [5.8, 2.7, 4.1, 1. ],\n",
      "       [6.2, 2.2, 4.5, 1.5],\n",
      "       [5.6, 2.5, 3.9, 1.1],\n",
      "       [5.9, 3.2, 4.8, 1.8],\n",
      "       [6.1, 2.8, 4. , 1.3],\n",
      "       [6.3, 2.5, 4.9, 1.5],\n",
      "       [6.1, 2.8, 4.7, 1.2],\n",
      "       [6.4, 2.9, 4.3, 1.3],\n",
      "       [6.6, 3. , 4.4, 1.4],\n",
      "       [6.8, 2.8, 4.8, 1.4],\n",
      "       [6.7, 3. , 5. , 1.7],\n",
      "       [6. , 2.9, 4.5, 1.5],\n",
      "       [5.7, 2.6, 3.5, 1. ],\n",
      "       [5.5, 2.4, 3.8, 1.1],\n",
      "       [5.5, 2.4, 3.7, 1. ],\n",
      "       [5.8, 2.7, 3.9, 1.2],\n",
      "       [6. , 2.7, 5.1, 1.6],\n",
      "       [5.4, 3. , 4.5, 1.5],\n",
      "       [6. , 3.4, 4.5, 1.6],\n",
      "       [6.7, 3.1, 4.7, 1.5],\n",
      "       [6.3, 2.3, 4.4, 1.3],\n",
      "       [5.6, 3. , 4.1, 1.3],\n",
      "       [5.5, 2.5, 4. , 1.3],\n",
      "       [5.5, 2.6, 4.4, 1.2],\n",
      "       [6.1, 3. , 4.6, 1.4],\n",
      "       [5.8, 2.6, 4. , 1.2],\n",
      "       [5. , 2.3, 3.3, 1. ],\n",
      "       [5.6, 2.7, 4.2, 1.3],\n",
      "       [5.7, 3. , 4.2, 1.2],\n",
      "       [5.7, 2.9, 4.2, 1.3],\n",
      "       [6.2, 2.9, 4.3, 1.3],\n",
      "       [5.1, 2.5, 3. , 1.1],\n",
      "       [5.7, 2.8, 4.1, 1.3],\n",
      "       [6.3, 3.3, 6. , 2.5],\n",
      "       [5.8, 2.7, 5.1, 1.9],\n",
      "       [7.1, 3. , 5.9, 2.1],\n",
      "       [6.3, 2.9, 5.6, 1.8],\n",
      "       [6.5, 3. , 5.8, 2.2],\n",
      "       [7.6, 3. , 6.6, 2.1],\n",
      "       [4.9, 2.5, 4.5, 1.7],\n",
      "       [7.3, 2.9, 6.3, 1.8],\n",
      "       [6.7, 2.5, 5.8, 1.8],\n",
      "       [7.2, 3.6, 6.1, 2.5],\n",
      "       [6.5, 3.2, 5.1, 2. ],\n",
      "       [6.4, 2.7, 5.3, 1.9],\n",
      "       [6.8, 3. , 5.5, 2.1],\n",
      "       [5.7, 2.5, 5. , 2. ],\n",
      "       [5.8, 2.8, 5.1, 2.4],\n",
      "       [6.4, 3.2, 5.3, 2.3],\n",
      "       [6.5, 3. , 5.5, 1.8],\n",
      "       [7.7, 3.8, 6.7, 2.2],\n",
      "       [7.7, 2.6, 6.9, 2.3],\n",
      "       [6. , 2.2, 5. , 1.5],\n",
      "       [6.9, 3.2, 5.7, 2.3],\n",
      "       [5.6, 2.8, 4.9, 2. ],\n",
      "       [7.7, 2.8, 6.7, 2. ],\n",
      "       [6.3, 2.7, 4.9, 1.8],\n",
      "       [6.7, 3.3, 5.7, 2.1],\n",
      "       [7.2, 3.2, 6. , 1.8],\n",
      "       [6.2, 2.8, 4.8, 1.8],\n",
      "       [6.1, 3. , 4.9, 1.8],\n",
      "       [6.4, 2.8, 5.6, 2.1],\n",
      "       [7.2, 3. , 5.8, 1.6],\n",
      "       [7.4, 2.8, 6.1, 1.9],\n",
      "       [7.9, 3.8, 6.4, 2. ],\n",
      "       [6.4, 2.8, 5.6, 2.2],\n",
      "       [6.3, 2.8, 5.1, 1.5],\n",
      "       [6.1, 2.6, 5.6, 1.4],\n",
      "       [7.7, 3. , 6.1, 2.3],\n",
      "       [6.3, 3.4, 5.6, 2.4],\n",
      "       [6.4, 3.1, 5.5, 1.8],\n",
      "       [6. , 3. , 4.8, 1.8],\n",
      "       [6.9, 3.1, 5.4, 2.1],\n",
      "       [6.7, 3.1, 5.6, 2.4],\n",
      "       [6.9, 3.1, 5.1, 2.3],\n",
      "       [5.8, 2.7, 5.1, 1.9],\n",
      "       [6.8, 3.2, 5.9, 2.3],\n",
      "       [6.7, 3.3, 5.7, 2.5],\n",
      "       [6.7, 3. , 5.2, 2.3],\n",
      "       [6.3, 2.5, 5. , 1.9],\n",
      "       [6.5, 3. , 5.2, 2. ],\n",
      "       [6.2, 3.4, 5.4, 2.3],\n",
      "       [5.9, 3. , 5.1, 1.8]]), 'target': array([0, 0, 0, 0, 0, 0, 0, 0, 0, 0, 0, 0, 0, 0, 0, 0, 0, 0, 0, 0, 0, 0,\n",
      "       0, 0, 0, 0, 0, 0, 0, 0, 0, 0, 0, 0, 0, 0, 0, 0, 0, 0, 0, 0, 0, 0,\n",
      "       0, 0, 0, 0, 0, 0, 1, 1, 1, 1, 1, 1, 1, 1, 1, 1, 1, 1, 1, 1, 1, 1,\n",
      "       1, 1, 1, 1, 1, 1, 1, 1, 1, 1, 1, 1, 1, 1, 1, 1, 1, 1, 1, 1, 1, 1,\n",
      "       1, 1, 1, 1, 1, 1, 1, 1, 1, 1, 1, 1, 2, 2, 2, 2, 2, 2, 2, 2, 2, 2,\n",
      "       2, 2, 2, 2, 2, 2, 2, 2, 2, 2, 2, 2, 2, 2, 2, 2, 2, 2, 2, 2, 2, 2,\n",
      "       2, 2, 2, 2, 2, 2, 2, 2, 2, 2, 2, 2, 2, 2, 2, 2, 2, 2]), 'frame': None, 'target_names': array(['setosa', 'versicolor', 'virginica'], dtype='<U10'), 'DESCR': '.. _iris_dataset:\\n\\nIris plants dataset\\n--------------------\\n\\n**Data Set Characteristics:**\\n\\n:Number of Instances: 150 (50 in each of three classes)\\n:Number of Attributes: 4 numeric, predictive attributes and the class\\n:Attribute Information:\\n    - sepal length in cm\\n    - sepal width in cm\\n    - petal length in cm\\n    - petal width in cm\\n    - class:\\n            - Iris-Setosa\\n            - Iris-Versicolour\\n            - Iris-Virginica\\n\\n:Summary Statistics:\\n\\n============== ==== ==== ======= ===== ====================\\n                Min  Max   Mean    SD   Class Correlation\\n============== ==== ==== ======= ===== ====================\\nsepal length:   4.3  7.9   5.84   0.83    0.7826\\nsepal width:    2.0  4.4   3.05   0.43   -0.4194\\npetal length:   1.0  6.9   3.76   1.76    0.9490  (high!)\\npetal width:    0.1  2.5   1.20   0.76    0.9565  (high!)\\n============== ==== ==== ======= ===== ====================\\n\\n:Missing Attribute Values: None\\n:Class Distribution: 33.3% for each of 3 classes.\\n:Creator: R.A. Fisher\\n:Donor: Michael Marshall (MARSHALL%PLU@io.arc.nasa.gov)\\n:Date: July, 1988\\n\\nThe famous Iris database, first used by Sir R.A. Fisher. The dataset is taken\\nfrom Fisher\\'s paper. Note that it\\'s the same as in R, but not as in the UCI\\nMachine Learning Repository, which has two wrong data points.\\n\\nThis is perhaps the best known database to be found in the\\npattern recognition literature.  Fisher\\'s paper is a classic in the field and\\nis referenced frequently to this day.  (See Duda & Hart, for example.)  The\\ndata set contains 3 classes of 50 instances each, where each class refers to a\\ntype of iris plant.  One class is linearly separable from the other 2; the\\nlatter are NOT linearly separable from each other.\\n\\n.. dropdown:: References\\n\\n  - Fisher, R.A. \"The use of multiple measurements in taxonomic problems\"\\n    Annual Eugenics, 7, Part II, 179-188 (1936); also in \"Contributions to\\n    Mathematical Statistics\" (John Wiley, NY, 1950).\\n  - Duda, R.O., & Hart, P.E. (1973) Pattern Classification and Scene Analysis.\\n    (Q327.D83) John Wiley & Sons.  ISBN 0-471-22361-1.  See page 218.\\n  - Dasarathy, B.V. (1980) \"Nosing Around the Neighborhood: A New System\\n    Structure and Classification Rule for Recognition in Partially Exposed\\n    Environments\".  IEEE Transactions on Pattern Analysis and Machine\\n    Intelligence, Vol. PAMI-2, No. 1, 67-71.\\n  - Gates, G.W. (1972) \"The Reduced Nearest Neighbor Rule\".  IEEE Transactions\\n    on Information Theory, May 1972, 431-433.\\n  - See also: 1988 MLC Proceedings, 54-64.  Cheeseman et al\"s AUTOCLASS II\\n    conceptual clustering system finds 3 classes in the data.\\n  - Many, many more ...\\n', 'feature_names': ['sepal length (cm)', 'sepal width (cm)', 'petal length (cm)', 'petal width (cm)'], 'filename': 'iris.csv', 'data_module': 'sklearn.datasets.data'}\n"
     ]
    }
   ],
   "source": [
    "from sklearn.datasets import load_iris\n",
    "from sklearn.model_selection import train_test_split\n",
    "import numpy as np\n",
    "import pandas as pd\n",
    "import matplotlib.pyplot as plt\n",
    "\n",
    "#import iris set\n",
    "iris = load_iris()\n",
    "print(iris)\n",
    "#Los datos tienen 4 secciones:\n",
    "#[longitud-sépalo, ancho-sepalo, longitud-petalo,ancho-petalo]"
   ]
  },
  {
   "cell_type": "markdown",
   "id": "43113a15-00cf-4bf1-b41f-df02b13d3434",
   "metadata": {},
   "source": [
    "<h2>Separación del dataset</h2>\n",
    "Lo dividiremos en <b>80%</b> para el <b><em>training</em></b><br>\n",
    "Y el <b>20%</b> restante serán las <b><em>pruebas</em></b>"
   ]
  },
  {
   "cell_type": "code",
   "execution_count": 88,
   "id": "8679e6c0-9c57-432b-98ca-dde6c7d73b2a",
   "metadata": {},
   "outputs": [],
   "source": [
    "#Separación del dataset\n",
    "X_train, X_test, y_train, y_test = train_test_split(\n",
    "    iris.data, iris.target, test_size = 0.2, random_state=42, stratify=iris.target\n",
    ")\n",
    "\n",
    "X_train_b = np.hstack([np.ones((X_train.shape[0], 1)), X_train])\n",
    "X_test_b = np.hstack([np.ones((X_test.shape[0], 1)), X_test])"
   ]
  },
  {
   "cell_type": "code",
   "execution_count": 89,
   "id": "248d4284-c5c9-4a5b-b0aa-4cb5cff8879d",
   "metadata": {},
   "outputs": [
    {
     "name": "stdout",
     "output_type": "stream",
     "text": [
      "4\n"
     ]
    }
   ],
   "source": [
    "#Inicialización de los pesos\n",
    "X = iris.data\n",
    "n_features = X.shape[1]\n",
    "print(n_features) #Aquí podemos ver que tenemos 4 features\n",
    "\n",
    "theta_Setosa = np.random.rand(n_features,1)\n",
    "theta_Versicolor = np.random.rand(n_features,1)\n",
    "theta_Virginica = np.random.rand(n_features,1)\n",
    "\n",
    "learning_rate = 0.01\n",
    "n_epochs = 500"
   ]
  },
  {
   "cell_type": "code",
   "execution_count": 90,
   "id": "adf42245-bf41-4d05-b868-ed84e3aaf301",
   "metadata": {
    "scrolled": true
   },
   "outputs": [],
   "source": [
    "#Creación del One-Hot\n",
    "\n",
    "def Crear_One_Hot_set(set):\n",
    "    One_Hot_set=[]\n",
    "    class_zero=[1,0,0]\n",
    "    class_one=[0,1,0]\n",
    "    class_two=[0,0,1]\n",
    "    for number in set:\n",
    "        if number == 0:\n",
    "            One_Hot_set.append(class_zero)\n",
    "        elif number == 1:\n",
    "            One_Hot_set.append(class_one) \n",
    "        elif number == 2:\n",
    "            One_Hot_set.append(class_two)\n",
    "\n",
    "    return One_Hot_set\n",
    "\n",
    "\n",
    "y_train_One_Hot = Crear_One_Hot_set(y_train)\n",
    "y_test_One_Hot = Crear_One_Hot_set(y_test)"
   ]
  },
  {
   "cell_type": "code",
   "execution_count": 91,
   "id": "1c9cfde0-5567-43db-976c-d22efb7d4271",
   "metadata": {},
   "outputs": [],
   "source": [
    "y_train_one_hot = np.array(Crear_One_Hot_set(y_train))\n",
    "y_test_one_hot = np.array(Crear_One_Hot_set(y_test))"
   ]
  },
  {
   "cell_type": "code",
   "execution_count": 92,
   "id": "d5697f14-9e0c-40dc-b43f-b6a49f7ed75d",
   "metadata": {},
   "outputs": [],
   "source": [
    "#Matriz de pesos Theta\n",
    "'''\n",
    "theta = np.array([theta_Setosa, theta_Versicolor, theta_Virginica])\n",
    "theta_fixed = theta.squeeze()\n",
    "theta_fixed = theta_fixed.T\n",
    "Z = X_test @ theta_fixed\n",
    "print(Z)'''\n",
    "n_classes = 3\n",
    "theta = np.random.rand(n_features, n_classes)\n"
   ]
  },
  {
   "cell_type": "code",
   "execution_count": 93,
   "id": "0d845527-1f6b-4225-af24-11f7f7feea8c",
   "metadata": {},
   "outputs": [
    {
     "name": "stdout",
     "output_type": "stream",
     "text": [
      "[[np.float64(0.4735446900887162), np.float64(0.11421073013822533), np.float64(0.41224457977305845)], [np.float64(0.45544444508528575), np.float64(0.17058409407105982), np.float64(0.37397146084365435)], [np.float64(0.4074353363256632), np.float64(0.16691066908330504), np.float64(0.42565399459103187)], [np.float64(0.3953576476062364), np.float64(0.1634385206574976), np.float64(0.4412038317362661)], [np.float64(0.49335618240107304), np.float64(0.11217811619655027), np.float64(0.39446570140237674)], [np.float64(0.4622065553799259), np.float64(0.1488903611822291), np.float64(0.3889030834378451)], [np.float64(0.54225066132958), np.float64(0.09593747421315882), np.float64(0.36181186445726127)], [np.float64(0.4545204372332504), np.float64(0.08984395292394154), np.float64(0.455635609842808)], [np.float64(0.45635561294395605), np.float64(0.16598432478601224), np.float64(0.37766006227003174)], [np.float64(0.453300776462163), np.float64(0.18387925456950233), np.float64(0.3628199689683347)], [np.float64(0.3390158647552742), np.float64(0.1574205158759462), np.float64(0.5035636193687797)], [np.float64(0.5034744829606029), np.float64(0.14967285876934733), np.float64(0.34685265827004985)], [np.float64(0.44949449288991966), np.float64(0.18889996343936946), np.float64(0.36160554367071096)], [np.float64(0.4462047367942308), np.float64(0.1391486383871602), np.float64(0.41464662481860903)], [np.float64(0.48076273873777914), np.float64(0.09696450976126261), np.float64(0.4222727515009583)], [np.float64(0.47607736073385276), np.float64(0.09589840432879665), np.float64(0.42802423493735053)], [np.float64(0.52472390546294), np.float64(0.06868995603652717), np.float64(0.4065861385005329)], [np.float64(0.3789875076969), np.float64(0.15404331624158202), np.float64(0.466969176061518)], [np.float64(0.40134303641089614), np.float64(0.15768986801326004), np.float64(0.44096709557584374)], [np.float64(0.4634943199865822), np.float64(0.17181477721155103), np.float64(0.3646909028018668)], [np.float64(0.49523264714335213), np.float64(0.08426601800418282), np.float64(0.4205013348524651)], [np.float64(0.49322156257773647), np.float64(0.1745801468792983), np.float64(0.3321982905429651)], [np.float64(0.37693008544275375), np.float64(0.13230311500414924), np.float64(0.49076679955309693)], [np.float64(0.32788007746853265), np.float64(0.18557808490618233), np.float64(0.486541837625285)], [np.float64(0.4442095933658543), np.float64(0.19004630732313788), np.float64(0.3657440993110078)], [np.float64(0.4195067219217981), np.float64(0.14625058861515866), np.float64(0.4342426894630432)], [np.float64(0.41122920494783655), np.float64(0.12919010407016923), np.float64(0.4595806909819942)], [np.float64(0.49841486667847956), np.float64(0.08073812208505203), np.float64(0.4208470112364684)], [np.float64(0.41201510712809974), np.float64(0.17102478356390152), np.float64(0.41696010930799876)], [np.float64(0.4782999138448519), np.float64(0.08980785958800758), np.float64(0.43189222656714044)]]\n"
     ]
    },
    {
     "data": {
      "text/plain": [
       "'\\nvalores = np.exp(Z[0])\\ntotal = valores[0] + valores[1] + valores[2]\\nvalores_fixed = [valores[0]/total,valores[1]/total,valores[2]/total]\\nprint(Z[0])\\nprint(valores_fixed)'"
      ]
     },
     "execution_count": 93,
     "metadata": {},
     "output_type": "execute_result"
    }
   ],
   "source": [
    "def SoftMax(Matriz_Z):\n",
    "    SoftMax_list = []\n",
    "    for muestra in Matriz_Z:\n",
    "        valores = np.exp(muestra)\n",
    "        total = valores[0] + valores[1] + valores[2]\n",
    "        valores_fixed = [valores[0]/total, valores[1]/total, valores[2]/total]\n",
    "        SoftMax_list.append(valores_fixed)\n",
    "    return SoftMax_list\n",
    "\n",
    "SoftMax_List = SoftMax(Z)\n",
    "print(SoftMax_List)\n",
    "'''\n",
    "valores = np.exp(Z[0])\n",
    "total = valores[0] + valores[1] + valores[2]\n",
    "valores_fixed = [valores[0]/total,valores[1]/total,valores[2]/total]\n",
    "print(Z[0])\n",
    "print(valores_fixed)'''"
   ]
  },
  {
   "cell_type": "code",
   "execution_count": 94,
   "id": "883883c7-6d71-4ffa-b83b-06fa6f634076",
   "metadata": {},
   "outputs": [],
   "source": [
    "def cross_entropy(y_true, y_pred):\n",
    "    \"\"\"\n",
    "    y_true: array de shape (m, n_clases) con one-hot vectors\n",
    "    y_pred: array de shape (m, n_clases) con predicciones de softmax\n",
    "    \"\"\"\n",
    "    m = y_true.shape[0]  # número de muestras\n",
    "    # para evitar log(0), sumamos un pequeño epsilon\n",
    "    epsilon = 1e-15\n",
    "    y_pred = np.clip(y_pred, epsilon, 1 - epsilon)\n",
    "    # calcular loss para cada muestra\n",
    "    loss_per_sample = -np.sum(y_true * np.log(y_pred), axis=1)\n",
    "    # promedio sobre todas las muestras\n",
    "    return np.mean(loss_per_sample)"
   ]
  },
  {
   "cell_type": "code",
   "execution_count": 97,
   "id": "744a7989-1c53-4c59-ba61-0b1be8fa5dd5",
   "metadata": {},
   "outputs": [],
   "source": [
    "def SoftMax(X_b, y_one_hot, theta, learning_rate, n_epochs):\n",
    "    cost_history = []\n",
    "    for epoch in range(n_epochs):\n",
    "        # Forward pass\n",
    "        Z = X_b @ theta\n",
    "        exp_Z = np.exp(Z)\n",
    "        softmax_pred = exp_Z / np.sum(exp_Z, axis=1, keepdims=True)\n",
    "\n",
    "        # Cross-entropy loss\n",
    "        loss = -np.mean(np.sum(y_one_hot * np.log(softmax_pred), axis=1))\n",
    "        cost_history.append(loss)\n",
    "\n",
    "        # Gradiente\n",
    "        gradient = (X_b.T @ (softmax_pred - y_one_hot)) / X_b.shape[0]\n",
    "\n",
    "        # Actualizar pesos\n",
    "        theta = theta - learning_rate * gradient\n",
    "\n",
    "    return theta, cost_history\n"
   ]
  },
  {
   "cell_type": "code",
   "execution_count": 98,
   "id": "328bd797-4a5e-4f3e-8e2c-c9d53e0be4b6",
   "metadata": {
    "scrolled": true
   },
   "outputs": [
    {
     "name": "stdout",
     "output_type": "stream",
     "text": [
      "Pérdida final: 0.4845029300234299\n"
     ]
    }
   ],
   "source": [
    "theta_final, cost_history = SoftMax(X_train,y_train_One_Hot, theta, learning_rate, n_epochs)\n",
    "print(\"Pérdida final:\", cost_history[-1])"
   ]
  },
  {
   "cell_type": "code",
   "execution_count": 99,
   "id": "08e0ee2c-9cb8-49a6-ab46-1bed3369857b",
   "metadata": {},
   "outputs": [
    {
     "name": "stdout",
     "output_type": "stream",
     "text": [
      "[[0.82222444 0.14276701 0.03500855]\n",
      " [0.03448193 0.43626299 0.52925509]\n",
      " [0.16273643 0.45937877 0.37788481]\n",
      " [0.16423714 0.45459409 0.38116877]\n",
      " [0.83427529 0.13511176 0.03061295]]\n"
     ]
    }
   ],
   "source": [
    "# Logits sobre X_test\n",
    "Z_test = X_test @ theta_final\n",
    "\n",
    "# Softmax para probabilidades\n",
    "def SoftMax_vectorized(Matriz_Z):\n",
    "    exp_Z = np.exp(Matriz_Z)\n",
    "    return exp_Z / np.sum(exp_Z, axis=1, keepdims=True)\n",
    "\n",
    "softmax_test = SoftMax_vectorized(Z_test)\n",
    "print(softmax_test[:5])  # mostrar las primeras 5 predicciones\n"
   ]
  },
  {
   "cell_type": "code",
   "execution_count": 100,
   "id": "d13637c0-429e-4aee-a7b2-91b77d88fe76",
   "metadata": {},
   "outputs": [
    {
     "name": "stdout",
     "output_type": "stream",
     "text": [
      "[0 2 1 1 0 1 0 0 2 2]\n",
      "[0 2 1 1 0 1 0 0 2 1]\n"
     ]
    }
   ],
   "source": [
    "y_pred_test = np.argmax(softmax_test, axis=1)\n",
    "print(y_pred_test[:10])\n",
    "print(y_test[:10])  # para comparar con las etiquetas reales\n"
   ]
  },
  {
   "cell_type": "code",
   "execution_count": 101,
   "id": "8e3b4e6c-d09f-4e75-9a95-ef9e40f74f96",
   "metadata": {},
   "outputs": [
    {
     "name": "stdout",
     "output_type": "stream",
     "text": [
      "Precisión en test: 0.9\n"
     ]
    }
   ],
   "source": [
    "accuracy = np.mean(y_pred_test == y_test)\n",
    "print(\"Precisión en test:\", accuracy)\n"
   ]
  },
  {
   "cell_type": "code",
   "execution_count": 105,
   "id": "019a28a3-6b8f-44ef-98ff-fe220248397f",
   "metadata": {},
   "outputs": [
    {
     "data": {
      "image/png": "[encoded data removed]",
      "text/plain": [
       "<Figure size 640x480 with 1 Axes>"
      ]
     },
     "metadata": {},
     "output_type": "display_data"
    }
   ],
   "source": [
    "\n",
    "\n",
    "plt.plot(cost_history)\n",
    "plt.xlabel(\"Época\")\n",
    "plt.ylabel(\"Pérdida (Cross-Entropy)\")\n",
    "plt.title(\"Curva de Pérdida durante el Entrenamiento\")\n",
    "plt.show()\n"
   ]
  },
  {
   "cell_type": "code",
   "execution_count": 106,
   "id": "c1babc22-2f47-4a97-838d-e337ab15f307",
   "metadata": {},
   "outputs": [
    {
     "name": "stdout",
     "output_type": "stream",
     "text": [
      "Precisión en test set: 0.9\n",
      "Matriz de confusión:\n",
      " [[10  0  0]\n",
      " [ 0  7  3]\n",
      " [ 0  0 10]]\n"
     ]
    }
   ],
   "source": [
    "# Calcular Z_test usando los pesos finales\n",
    "Z_test = X_test @ theta_final\n",
    "\n",
    "# Aplicar Softmax para obtener probabilidades\n",
    "def softmax(Matriz_Z):\n",
    "    exp_Z = np.exp(Matriz_Z)\n",
    "    return exp_Z / np.sum(exp_Z, axis=1, keepdims=True)\n",
    "\n",
    "probabilidades_test = softmax(Z_test)\n",
    "\n",
    "# Obtener la clase predicha (índice del mayor valor)\n",
    "y_pred_test = np.argmax(probabilidades_test, axis=1)\n",
    "\n",
    "# Comparar con y_test y calcular precisión\n",
    "precision = np.mean(y_pred_test == y_test)\n",
    "print(\"Precisión en test set:\", precision)\n",
    "\n",
    "#ver la matriz de confusión\n",
    "from sklearn.metrics import confusion_matrix\n",
    "cm = confusion_matrix(y_test, y_pred_test)\n",
    "print(\"Matriz de confusión:\\n\", cm)\n"
   ]
  },
  {
   "cell_type": "code",
   "execution_count": 107,
   "id": "975d83f0-3e97-466e-aff0-d19e98f30847",
   "metadata": {},
   "outputs": [
    {
     "data": {
      "image/png": "[encoded data removed]",
      "text/plain": [
       "<Figure size 800x500 with 1 Axes>"
      ]
     },
     "metadata": {},
     "output_type": "display_data"
    }
   ],
   "source": [
    "# Graficar pérdida vs epochs\n",
    "plt.figure(figsize=(8,5))\n",
    "plt.plot(cost_history, marker='o')\n",
    "plt.title(\"Pérdida (Cross-Entropy) durante el entrenamiento\")\n",
    "plt.xlabel(\"Epoch\")\n",
    "plt.ylabel(\"Loss\")\n",
    "plt.grid(True)\n",
    "plt.show()"
   ]
  },
  {
   "cell_type": "code",
   "execution_count": null,
   "id": "9826acf7-f5b3-4804-a19b-a921873755da",
   "metadata": {},
   "outputs": [],
   "source": []
  }
 ],
 "metadata": {
  "kernelspec": {
   "display_name": "Python (jupyter_env)",
   "language": "python",
   "name": "jupyter_env"
  },
  "language_info": {
   "codemirror_mode": {
    "name": "ipython",
    "version": 3
   },
   "file_extension": ".py",
   "mimetype": "text/x-python",
   "name": "python",
   "nbconvert_exporter": "python",
   "pygments_lexer": "ipython3",
   "version": "3.13.7"
  }
 },
 "nbformat": 4,
 "nbformat_minor": 5
}
