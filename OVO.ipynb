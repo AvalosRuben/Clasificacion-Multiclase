{
 "cells": [
  {
   "cell_type": "code",
   "execution_count": 1,
   "id": "ed96d40e",
   "metadata": {},
   "outputs": [],
   "source": [
    "from sklearn.base import BaseEstimator, ClassifierMixin\n",
    "from sklearn.linear_model import LogisticRegression\n",
    "import numpy as np\n",
    "from itertools import combinations"
   ]
  },
  {
   "cell_type": "code",
   "execution_count": null,
   "id": "55e6d8a4",
   "metadata": {},
   "outputs": [],
   "source": [
    "class OneVsOneClassifierCustom(BaseEstimator, ClassifierMixin):\n",
    "    def __init__(self, base_model=LogisticRegression):\n",
    "        self.base_model = base_model\n",
    "        self.models = []\n",
    "        self.class_pairs = []\n",
    "\n",
    "    def fit(self, X, y):\n",
    "        self.models = []\n",
    "        self.class_pairs = []\n",
    "\n",
    "        # Obtener clases únicas\n",
    "        classes = np.unique(y)\n",
    "        \n",
    "        # Crear combinaciones de pares (0 vs 1), (0 vs 2), ...\n",
    "        for (c1, c2) in combinations(classes, 2):\n",
    "            # Filtrar dataset por solo esas dos clases\n",
    "            idx = np.where((y == c1) | (y == c2))\n",
    "            X_pair = X[idx]\n",
    "            y_pair = y[idx]\n",
    "\n",
    "            # Modelo nuevo\n",
    "            model = self.base_model()\n",
    "            model.fit(X_pair, y_pair)\n",
    "\n",
    "            self.models.append(model)\n",
    "            self.class_pairs.append((c1, c2))\n",
    "        \n",
    "        return self\n",
    "\n",
    "    def predict(self, X):\n",
    "        votes = np.zeros((X.shape[0], len(self.class_pairs)))\n",
    "        \n",
    "        predictions = []\n",
    "        for i, model in enumerate(self.models):\n",
    "            preds = model.predict(X)\n",
    "            votes[:, i] = preds\n",
    "        \n",
    "        # Voto mayoritario por fila\n",
    "        final_preds = []\n",
    "        for row in votes:\n",
    "            counts = np.bincount(row.astype(int))\n",
    "            final_preds.append(np.argmax(counts))\n",
    "        \n",
    "        return np.array(final_preds)"
   ]
  }
 ],
 "metadata": {
  "kernelspec": {
   "display_name": "base",
   "language": "python",
   "name": "python3"
  },
  "language_info": {
   "codemirror_mode": {
    "name": "ipython",
    "version": 3
   },
   "file_extension": ".py",
   "mimetype": "text/x-python",
   "name": "python",
   "nbconvert_exporter": "python",
   "pygments_lexer": "ipython3",
   "version": "3.13.5"
  }
 },
 "nbformat": 4,
 "nbformat_minor": 5
}
